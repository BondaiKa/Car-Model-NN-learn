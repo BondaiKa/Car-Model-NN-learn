{
 "cells": [
  {
   "cell_type": "markdown",
   "metadata": {},
   "source": [
    "### Splitting Dataset to `train` and `test` "
   ]
  },
  {
   "cell_type": "code",
   "execution_count": 4,
   "metadata": {},
   "outputs": [],
   "source": [
    "import os\n",
    "import os\n",
    "import numpy as np\n",
    "import shutil\n",
    "import random\n"
   ]
  },
  {
   "cell_type": "code",
   "execution_count": 5,
   "metadata": {},
   "outputs": [
    {
     "data": {
      "text/plain": [
       "['KAMAZ_ALLKAMAZ_C',\n",
       " 'LADA_PRIORA_B',\n",
       " 'MAZDA_3_B',\n",
       " 'RЕNАULТ_DUSТЕR_B',\n",
       " 'SCANIA_ALLSCANIA_C',\n",
       " 'test',\n",
       " 'TOYOTA_RАV4_B',\n",
       " 'train',\n",
       " 'val',\n",
       " 'VOLVO_ALLVOLVO_C',\n",
       " 'VОLКSWАGЕN_TIGUAN_B',\n",
       " 'VОLКSWАGЕN_РОLО_B',\n",
       " 'КIА_RIО_B',\n",
       " 'НУUNDАI_SОLАRIS_B']"
      ]
     },
     "execution_count": 5,
     "metadata": {},
     "output_type": "execute_result"
    }
   ],
   "source": [
    "DATASET_DIR = \"./GRZ_and_model_recognition/learn/\"\n",
    "NUM_CLASSES = 11\n",
    "data_dir = os.listdir('./GRZ_and_model_recognition/learn/')\n",
    "data_dir"
   ]
  },
  {
   "cell_type": "code",
   "execution_count": 28,
   "metadata": {},
   "outputs": [
    {
     "name": "stdout",
     "output_type": "stream",
     "text": [
      "['KAMAZ_ALLKAMAZ_C', 'LADA_PRIORA_B', 'MAZDA_3_B', 'RЕNАULТ_DUSТЕR_B', 'SCANIA_ALLSCANIA_C', 'TOYOTA_RАV4_B', 'VOLVO_ALLVOLVO_C', 'VОLКSWАGЕN_TIGUAN_B', 'VОLКSWАGЕN_РОLО_B', 'КIА_RIО_B', 'НУUNDАI_SОLАRIS_B']\n"
     ]
    }
   ],
   "source": [
    "# # Creating Train / Val / Test folders (One time use)\n",
    "root_dir = DATASET_DIR\n",
    "classes_dir = data_dir\n",
    "classes_dir = list(filter(lambda x:x not in ['test','train','val'],classes_dir))\n",
    "\n",
    "print(classes_dir)\n"
   ]
  },
  {
   "cell_type": "code",
   "execution_count": 29,
   "metadata": {},
   "outputs": [
    {
     "name": "stdout",
     "output_type": "stream",
     "text": [
      "Total images:  21628\n",
      "Training:  17302\n",
      "Validation:  2163\n",
      "Testing:  2163\n",
      "Total images:  6357\n",
      "Training:  5085\n",
      "Validation:  636\n",
      "Testing:  636\n",
      "Total images:  12387\n",
      "Training:  9909\n",
      "Validation:  1239\n",
      "Testing:  1239\n",
      "Total images:  9612\n",
      "Training:  7689\n",
      "Validation:  961\n",
      "Testing:  962\n",
      "Total images:  21744\n",
      "Training:  17395\n",
      "Validation:  2174\n",
      "Testing:  2175\n",
      "Total images:  12256\n",
      "Training:  9804\n",
      "Validation:  1226\n",
      "Testing:  1226\n",
      "Total images:  12792\n",
      "Training:  10233\n",
      "Validation:  1279\n",
      "Testing:  1280\n",
      "Total images:  4772\n",
      "Training:  3817\n",
      "Validation:  477\n",
      "Testing:  478\n",
      "Total images:  12877\n",
      "Training:  10301\n",
      "Validation:  1288\n",
      "Testing:  1288\n",
      "Total images:  21744\n",
      "Training:  17395\n",
      "Validation:  2174\n",
      "Testing:  2175\n",
      "Total images:  20201\n",
      "Training:  16160\n",
      "Validation:  2020\n",
      "Testing:  2021\n"
     ]
    }
   ],
   "source": [
    "val_ratio = 0.10\n",
    "test_ratio = 0.10\n",
    "\n",
    "for num, cls in enumerate(classes_dir):\n",
    "    try:\n",
    "        os.makedirs(root_dir +'train/' + cls)\n",
    "        os.makedirs(root_dir +'val/' + cls)\n",
    "        os.makedirs(root_dir +'test/' + cls)\n",
    "    except Exception as e:\n",
    "        print('This root has been already created!')\n",
    "\n",
    "    # Creating partitions of the data after shuffeling\n",
    "    src = root_dir + cls # Folder to copy images from\n",
    "\n",
    "    allFileNames = os.listdir(src)\n",
    "  \n",
    "    train_border = int(len(allFileNames)*0.8)\n",
    "    test_border =  int(len(allFileNames)*0.9)\n",
    "    \n",
    "    train_FileNames = allFileNames[:train_border]\n",
    "    val_FileNames = allFileNames[train_border:test_border]\n",
    "    test_FileNames = allFileNames[test_border:]\n",
    "    \n",
    "    train_FileNames = [src+'/'+ name for name in train_FileNames]\n",
    "    val_FileNames = [src+'/' + name for name in val_FileNames]\n",
    "    test_FileNames = [src+'/' + name for name in test_FileNames]\n",
    "\n",
    "    print(f'Class {num}: {cls}')\n",
    "    print('Total images: ', len(allFileNames))\n",
    "    print('Training: ', len(train_FileNames))\n",
    "    print('Validation: ', len(val_FileNames))\n",
    "    print('Testing: ', len(test_FileNames))\n",
    "    print('--------')\n",
    "\n",
    "    # Copy-pasting images\n",
    "    for name in train_FileNames:\n",
    "        shutil.copy(name, root_dir +'/train/' + cls)\n",
    "\n",
    "    for name in val_FileNames:\n",
    "        shutil.copy(name, root_dir +'/val/' + cls)\n",
    "\n",
    "    for name in test_FileNames:\n",
    "        shutil.copy(name, root_dir +'/test/' + cls)"
   ]
  },
  {
   "cell_type": "code",
   "execution_count": 19,
   "metadata": {},
   "outputs": [],
   "source": [
    "train_border = int(len(allFileNames)*0.8)\n",
    "test_border =  int(len(allFileNames)*0.9)"
   ]
  },
  {
   "cell_type": "code",
   "execution_count": null,
   "metadata": {},
   "outputs": [],
   "source": []
  },
  {
   "cell_type": "code",
   "execution_count": null,
   "metadata": {},
   "outputs": [],
   "source": []
  },
  {
   "cell_type": "code",
   "execution_count": null,
   "metadata": {},
   "outputs": [],
   "source": []
  },
  {
   "cell_type": "code",
   "execution_count": null,
   "metadata": {},
   "outputs": [],
   "source": []
  }
 ],
 "metadata": {
  "kernelspec": {
   "display_name": "Python 3",
   "language": "python",
   "name": "python3"
  },
  "language_info": {
   "codemirror_mode": {
    "name": "ipython",
    "version": 3
   },
   "file_extension": ".py",
   "mimetype": "text/x-python",
   "name": "python",
   "nbconvert_exporter": "python",
   "pygments_lexer": "ipython3",
   "version": "3.8.3"
  }
 },
 "nbformat": 4,
 "nbformat_minor": 4
}
